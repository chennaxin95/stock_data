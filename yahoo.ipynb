{
 "cells": [
  {
   "cell_type": "code",
   "execution_count": 1,
   "metadata": {
    "collapsed": false
   },
   "outputs": [
    {
     "name": "stderr",
     "output_type": "stream",
     "text": [
      "/home/ubuntu/anaconda2/lib/python2.7/site-packages/fix_yahoo_finance/__init__.py:43: DeprecationWarning: \n",
      "    Auto-overriding of pandas_datareader's get_data_yahoo() is deprecated and will be removed in future versions.\n",
      "    Use pdr_override() to explicitly override it.\n",
      "  DeprecationWarning)\n",
      "/home/ubuntu/anaconda2/lib/python2.7/site-packages/ipykernel/kernelbase.py:43: DeprecationWarning: IPythonKernel._eventloop_changed is deprecated: use @observe and @unobserve instead.\n",
      "  def _eventloop_changed(self, name, old, new):\n",
      "/home/ubuntu/anaconda2/lib/python2.7/site-packages/ipykernel/pylab/config.py:66: DeprecationWarning: metadata {'config': True} was set from the constructor.  Metadata should be set using the .tag() method, e.g., Int().tag(key1='value1', key2='value2')\n",
      "  inline backend.\"\"\"\n",
      "/home/ubuntu/anaconda2/lib/python2.7/site-packages/ipykernel/pylab/config.py:44: DeprecationWarning: InlineBackend._config_changed is deprecated: use @observe and @unobserve instead.\n",
      "  def _config_changed(self, name, old, new):\n",
      "/home/ubuntu/anaconda2/lib/python2.7/site-packages/traitlets/traitlets.py:770: DeprecationWarning: A parent of InlineBackend._config_changed has adopted the new @observe(change) API\n",
      "  clsname, change_or_name), DeprecationWarning)\n",
      "/home/ubuntu/anaconda2/lib/python2.7/site-packages/IPython/core/formatters.py:98: DeprecationWarning: DisplayFormatter._formatters_default is deprecated: use @default decorator instead.\n",
      "  def _formatters_default(self):\n",
      "/home/ubuntu/anaconda2/lib/python2.7/site-packages/IPython/core/formatters.py:677: DeprecationWarning: PlainTextFormatter._deferred_printers_default is deprecated: use @default decorator instead.\n",
      "  def _deferred_printers_default(self):\n",
      "/home/ubuntu/anaconda2/lib/python2.7/site-packages/IPython/core/formatters.py:669: DeprecationWarning: PlainTextFormatter._singleton_printers_default is deprecated: use @default decorator instead.\n",
      "  def _singleton_printers_default(self):\n",
      "/home/ubuntu/anaconda2/lib/python2.7/site-packages/IPython/core/formatters.py:672: DeprecationWarning: PlainTextFormatter._type_printers_default is deprecated: use @default decorator instead.\n",
      "  def _type_printers_default(self):\n"
     ]
    }
   ],
   "source": [
    "import fix_yahoo_finance as yf\n",
    "from finsymbols import symbols\n",
    "import cPickle\n",
    "from progressbar import ProgressBar\n",
    "import cPickle\n",
    "import matplotlib.pyplot as plt\n",
    "import numpy as np\n",
    "%matplotlib inline"
   ]
  },
  {
   "cell_type": "code",
   "execution_count": null,
   "metadata": {
    "collapsed": false
   },
   "outputs": [],
   "source": [
    "data = yf.download(\"SPY\", start=\"2017-01-01\", end=\"2017-04-30\")"
   ]
  },
  {
   "cell_type": "code",
   "execution_count": null,
   "metadata": {
    "collapsed": false
   },
   "outputs": [],
   "source": [
    "data.ix[80]"
   ]
  },
  {
   "cell_type": "code",
   "execution_count": null,
   "metadata": {
    "collapsed": false
   },
   "outputs": [],
   "source": [
    "sp500 = symbols.get_sp500_symbols()"
   ]
  },
  {
   "cell_type": "code",
   "execution_count": null,
   "metadata": {
    "collapsed": false
   },
   "outputs": [],
   "source": [
    "sp_name = [sym['symbol'] for sym in sp500]"
   ]
  },
  {
   "cell_type": "code",
   "execution_count": null,
   "metadata": {
    "collapsed": false
   },
   "outputs": [],
   "source": [
    "len(sp_name)"
   ]
  },
  {
   "cell_type": "code",
   "execution_count": null,
   "metadata": {
    "collapsed": false
   },
   "outputs": [],
   "source": [
    "bar = ProgressBar()\n",
    "his_data = {}\n",
    "for name in bar(sp_name):\n",
    "    his_data[name]= yf.download(name, start=\"2015-01-01\", end=\"2017-06-30\")\n",
    "\n",
    "with open('stock-data.pkl', 'w') as pkl:\n",
    "    cPickle.dump(his_data, pkl)"
   ]
  },
  {
   "cell_type": "markdown",
   "metadata": {
    "collapsed": true
   },
   "source": [
    "# Create images"
   ]
  },
  {
   "cell_type": "code",
   "execution_count": 2,
   "metadata": {
    "collapsed": false
   },
   "outputs": [
    {
     "name": "stdout",
     "output_type": "stream",
     "text": [
      "505\n"
     ]
    }
   ],
   "source": [
    "with open('stock-data.pkl' ,'r') as pkl:\n",
    "    data = cPickle.load(pkl)\n",
    "print len(data)"
   ]
  },
  {
   "cell_type": "code",
   "execution_count": 4,
   "metadata": {
    "collapsed": false
   },
   "outputs": [
    {
     "name": "stdout",
     "output_type": "stream",
     "text": [
      "Empty DataFrame\n",
      "Columns: [Open, High, Low, Close, Adj Close, Volume]\n",
      "Index: []\n"
     ]
    }
   ],
   "source": [
    "appl = data['AAPL']\n",
    "vals = appl.as_matrix()\n",
    "print appl[:0]"
   ]
  },
  {
   "cell_type": "code",
   "execution_count": 12,
   "metadata": {
    "collapsed": false,
    "scrolled": false
   },
   "outputs": [],
   "source": [
    "# Plotting code snipet\n",
    "fig, ax1 = plt.subplots()\n",
    "ax2 = ax1.twinx()\n",
    "ax1.bar(range(30), np.divide(vals[:30, 5],1000), color='gray', edgecolor='gray')\n",
    "ax2.plot(range(30), vals[:30, 1], lw=2.0, color='green')\n",
    "ax2.plot(range(30), vals[:30, 2], lw=2.0, color='red')\n",
    "ax2.plot(range(30), vals[:30, 3], lw=4.0)\n",
    "fig.savefig('imgs/testy.png')\n",
    "ax1.clear()\n",
    "ax2.clear()\n",
    "plt.clf()\n",
    "plt.close(fig)"
   ]
  },
  {
   "cell_type": "code",
   "execution_count": 15,
   "metadata": {
    "collapsed": false
   },
   "outputs": [],
   "source": [
    "import gc \n",
    "from random import random\n",
    "def plot_30(data, i, name):\n",
    "    '''\n",
    "        Data index: High - 1, Low - 2, Close - 3\n",
    "    '''\n",
    "    fig, ax1 = plt.subplots()\n",
    "    ax2 = ax1.twinx()\n",
    "    ax1.bar(range(30), np.divide(data[i:i+30, 5],1000), color='gray', edgecolor='gray')\n",
    "    ax2.plot(range(30), data[i:i+30, 1], lw=2.0, color='green')\n",
    "    ax2.plot(range(30), data[i:i+30, 2], lw=2.0, color='red')\n",
    "    ax2.plot(range(30), data[i:i+30, 3], lw=4.0)\n",
    "    fig.savefig('imgs/'+str(name)+'.png')\n",
    "    ax1.clear()\n",
    "    ax2.clear()\n",
    "    plt.clf()\n",
    "    plt.close(fig)\n",
    "    plt.close()\n",
    "    if random() < 0.1:\n",
    "        gc.collect()"
   ]
  },
  {
   "cell_type": "code",
   "execution_count": null,
   "metadata": {
    "collapsed": false
   },
   "outputs": [
    {
     "name": "stderr",
     "output_type": "stream",
     "text": [
      "\r",
      "                                                                               \r",
      "\r",
      "N/A% (0 of 567) |                        | Elapsed Time: 0:00:00 ETA:  --:--:--"
     ]
    },
    {
     "name": "stdout",
     "output_type": "stream",
     "text": [
      "AGN\n"
     ]
    },
    {
     "name": "stderr",
     "output_type": "stream",
     "text": [
      "  9% (53 of 567) |##                      | Elapsed Time: 0:00:19 ETA:  0:03:08"
     ]
    }
   ],
   "source": [
    "with open('stock-data.pkl' ,'r') as pkl:\n",
    "    data = cPickle.load(pkl)\n",
    "    \n",
    "good_count = 0\n",
    "bad_count = 0\n",
    "\n",
    "for cmpny in data:\n",
    "    bar = ProgressBar()\n",
    "    print cmpny\n",
    "    # Transforms the data into nparray form\n",
    "    cmpny_data = data[cmpny].as_matrix()\n",
    "    for i in bar(range(len(cmpny_data)-61)):\n",
    "        # If the stock price increased by 3% by the end of next month\n",
    "        if cmpny_data[i+60,3] >= cmpny_data[i,3]*1.03:\n",
    "            plot_30(cmpny_data, i, 'good-'+str(good_count))\n",
    "            good_count += 1\n",
    "        else:\n",
    "            plot_30(cmpny_data, i, 'bad-'+str(bad_count))\n",
    "            bad_count += 1"
   ]
  },
  {
   "cell_type": "code",
   "execution_count": 3,
   "metadata": {
    "collapsed": false
   },
   "outputs": [
    {
     "name": "stderr",
     "output_type": "stream",
     "text": [
      "100% (150 of 150) |#######################| Elapsed Time: 0:00:01 Time: 0:00:01\n"
     ]
    }
   ],
   "source": [
    "from time import sleep\n",
    "bar = ProgressBar()\n",
    "for i in bar(range(150)):\n",
    "    sleep(0.01)"
   ]
  },
  {
   "cell_type": "code",
   "execution_count": null,
   "metadata": {
    "collapsed": true
   },
   "outputs": [],
   "source": []
  }
 ],
 "metadata": {
  "kernelspec": {
   "display_name": "Python 2",
   "language": "python",
   "name": "python2"
  },
  "language_info": {
   "codemirror_mode": {
    "name": "ipython",
    "version": 2
   },
   "file_extension": ".py",
   "mimetype": "text/x-python",
   "name": "python",
   "nbconvert_exporter": "python",
   "pygments_lexer": "ipython2",
   "version": "2.7.11"
  }
 },
 "nbformat": 4,
 "nbformat_minor": 0
}
