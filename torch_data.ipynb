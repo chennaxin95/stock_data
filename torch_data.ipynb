{
 "cells": [
  {
   "cell_type": "code",
   "execution_count": 1,
   "metadata": {},
   "outputs": [],
   "source": [
    "import os\n",
    "import cPickle\n",
    "import os.path as op\n",
    "import numpy as np\n",
    "from multiprocessing import pool\n",
    "from finsymbols import symbols\n",
    "from progressbar import ProgressBar"
   ]
  },
  {
   "cell_type": "markdown",
   "metadata": {},
   "source": [
    "### Shrink numpy data"
   ]
  },
  {
   "cell_type": "code",
   "execution_count": null,
   "metadata": {},
   "outputs": [],
   "source": [
    "CUR_DIR = os.getcwd()\n",
    "DATA_DIR = op.join(CUR_DIR, 'data')\n",
    "DUMP_DIR = op.join(CUR_DIR, 'data_32')\n",
    "\n",
    "sp500 = symbols.get_sp500_symbols()\n",
    "sp_name = [sym['symbol'] for sym in sp500]\n",
    "\n",
    "with open(op.join(DATA_DIR,'x_AGN.pkl'), 'r') as apl:\n",
    "    appl_x = cPickle.load(apl)\n",
    "with open(op.join(DATA_DIR,'y_AGN.pkl'), 'r') as apl:\n",
    "    appl_y = cPickle.load(apl)"
   ]
  },
  {
   "cell_type": "code",
   "execution_count": null,
   "metadata": {
    "scrolled": true
   },
   "outputs": [
    {
     "name": "stderr",
     "output_type": "stream",
     "text": [
      "100% (505 of 505) |#######################| Elapsed Time: 0:15:13 Time: 0:15:13\n"
     ]
    }
   ],
   "source": [
    "def concat_data():\n",
    "    bar = ProgressBar()\n",
    "    x_pile = []\n",
    "    y_pile = []\n",
    "    for cmpny in bar(sp_name):\n",
    "        fx = op.join(DATA_DIR, \"x_%s.pkl\"%cmpny)\n",
    "        if op.exists(fx):\n",
    "            fy = op.join(DATA_DIR, \"y_%s.pkl\"%cmpny)\n",
    "            with open(fx, 'r') as npx:\n",
    "                x_pile.append(cPickle.load(npx))\n",
    "            with open(fy, 'r') as npy:\n",
    "                y_pile.append(cPickle.load(npy))\n",
    "    trX = np.concatenate(x_pile)\n",
    "    trY = np.concatenate(y_pile)\n",
    "    permu = np.random.permutation(trX.shape[0])\n",
    "    np.take(trX,permu,axis=0,out=trX)\n",
    "    np.take(trY,permu,axis=0,out=trY)\n",
    "    div = int(trX.shape[0]*0.8)\n",
    "    with open(op.join(DATA_DIR, \"trX.pkl\"), 'w') as tx:\n",
    "        cPickle.dump(trX[0:div], tx)\n",
    "    with open(op.join(DATA_DIR, \"teX.pkl\"), 'w') as tx:\n",
    "        cPickle.dump(trX[div:], tx)\n",
    "    with open(op.join(DATA_DIR, \"trY.pkl\"), 'w') as ty:\n",
    "        cPickle.dump(trY[0:div], ty)\n",
    "    with open(op.join(DATA_DIR, \"teY.pkl\"), 'w') as ty:\n",
    "        cPickle.dump(trY[div:], ty)\n",
    "concat_data()"
   ]
  },
  {
   "cell_type": "markdown",
   "metadata": {},
   "source": [
    "### Visualizing data"
   ]
  },
  {
   "cell_type": "code",
   "execution_count": 4,
   "metadata": {},
   "outputs": [],
   "source": [
    "import matplotlib.pyplot as plt\n",
    "%matplotlib inline\n"
   ]
  },
  {
   "cell_type": "code",
   "execution_count": 15,
   "metadata": {},
   "outputs": [
    {
     "name": "stdout",
     "output_type": "stream",
     "text": [
      "(49, 4, 224, 224)\n"
     ]
    }
   ],
   "source": [
    "print(np.shape(appl_x))"
   ]
  },
  {
   "cell_type": "code",
   "execution_count": 6,
   "metadata": {},
   "outputs": [
    {
     "data": {
      "text/plain": [
       "<matplotlib.image.AxesImage at 0x7f34430f7b90>"
      ]
     },
     "execution_count": 6,
     "metadata": {},
     "output_type": "execute_result"
    },
    {
     "data": {
      "image/png": "[encoded data removed]",
      "text/plain": [
       "<matplotlib.figure.Figure at 0x7f34432109d0>"
      ]
     },
     "metadata": {},
     "output_type": "display_data"
    }
   ],
   "source": [
    "plt.imshow(appl_x[0,3])"
   ]
  },
  {
   "cell_type": "code",
   "execution_count": null,
   "metadata": {},
   "outputs": [],
   "source": []
  }
 ],
 "metadata": {
  "kernelspec": {
   "display_name": "Python 2",
   "language": "python",
   "name": "python2"
  },
  "language_info": {
   "codemirror_mode": {
    "name": "ipython",
    "version": 2
   },
   "file_extension": ".py",
   "mimetype": "text/x-python",
   "name": "python",
   "nbconvert_exporter": "python",
   "pygments_lexer": "ipython2",
   "version": "2.7.12"
  }
 },
 "nbformat": 4,
 "nbformat_minor": 2
}
