{
 "cells": [
  {
   "cell_type": "code",
   "execution_count": 29,
   "metadata": {
    "collapsed": true
   },
   "outputs": [],
   "source": [
    "from caffe.proto import caffe_pb2\n",
    "import numpy as np\n",
    "import lmdb\n",
    "import os\n",
    "import cv2\n",
    "from random import shuffle\n",
    "from progressbar import ProgressBar"
   ]
  },
  {
   "cell_type": "code",
   "execution_count": 4,
   "metadata": {},
   "outputs": [
    {
     "data": {
      "text/plain": [
       "594"
      ]
     },
     "execution_count": 4,
     "metadata": {},
     "output_type": "execute_result"
    }
   ],
   "source": [
    "N = len(os.listdir('imgs'))\n",
    "int(N*0.05)"
   ]
  },
  {
   "cell_type": "code",
   "execution_count": 2,
   "metadata": {},
   "outputs": [
    {
     "data": {
      "text/plain": [
       "list"
      ]
     },
     "execution_count": 2,
     "metadata": {},
     "output_type": "execute_result"
    }
   ],
   "source": [
    "type(os.listdir('imgs'))"
   ]
  },
  {
   "cell_type": "code",
   "execution_count": 6,
   "metadata": {
    "collapsed": true
   },
   "outputs": [],
   "source": [
    "im = cv2.imread('imgs/good-465.png')"
   ]
  },
  {
   "cell_type": "code",
   "execution_count": 7,
   "metadata": {},
   "outputs": [
    {
     "data": {
      "text/plain": [
       "(288, 432, 3)"
      ]
     },
     "execution_count": 7,
     "metadata": {},
     "output_type": "execute_result"
    }
   ],
   "source": [
    "np.shape(im)"
   ]
  },
  {
   "cell_type": "code",
   "execution_count": 9,
   "metadata": {
    "collapsed": true
   },
   "outputs": [],
   "source": [
    "def transform(im, width=256, height=256):\n",
    "    im = cv2.cvtColor(im, cv2.COLOR_BGR2RGB)\n",
    "    # Histgram Equalization\n",
    "    im[:, :, 0] = cv2.equalizeHist(im[:, :, 0])\n",
    "    im[:, :, 1] = cv2.equalizeHist(im[:, :, 1])\n",
    "    im[:, :, 2] = cv2.equalizeHist(im[:, :, 2])\n",
    "    # Resize\n",
    "    im = cv2.resize(im, (width, height), interpolation=cv2.INTER_CUBIC)\n",
    "    return im"
   ]
  },
  {
   "cell_type": "code",
   "execution_count": 23,
   "metadata": {
    "collapsed": true
   },
   "outputs": [],
   "source": [
    "def create_datum(im, label):\n",
    "    datum = caffe_pb2.Datum(\n",
    "        channels=3,\n",
    "        width=256,\n",
    "        height=256,\n",
    "        label=label,\n",
    "        data=im.tostring())\n",
    "    return datum"
   ]
  },
  {
   "cell_type": "code",
   "execution_count": 32,
   "metadata": {
    "collapsed": true
   },
   "outputs": [],
   "source": [
    "def create_lmdb():\n",
    "    imgs = os.listdir('imgs')\n",
    "    shuffle([img for img in imgs if 'png' not in img])\n",
    "    div = int(len(imgs)*0.1)\n",
    "    valid = imgs[0:div]\n",
    "    train = imgs[div:]\n",
    "    tr_db = lmdb.open('train_data', map_size=1e10)\n",
    "    with tr_db.begin(write=True) as db_txn:\n",
    "        bar = ProgressBar()\n",
    "        for im_name in bar(train):\n",
    "            im = cv2.imread('imgs/'+im_name)\n",
    "            try:\n",
    "                im = transform(im)\n",
    "            except:\n",
    "                continue\n",
    "            if 'good' in im_name:\n",
    "                datum = create_datum(im,0)\n",
    "            else:\n",
    "                datum = create_datum(im,0)\n",
    "            db_txn.put(im_name, datum.SerializeToString())\n",
    "    tr_db.close()\n",
    "    va_db = lmdb.open('valid_data', map_size=1e10)\n",
    "    with va_db.begin(write=True) as db_txn:\n",
    "        bar = ProgressBar()\n",
    "        for im_name in bar(valid):\n",
    "            im = cv2.imread('imgs/'+im_name)\n",
    "            try:\n",
    "                im = transform(im)\n",
    "            except:\n",
    "                continue\n",
    "            if 'good' in im_name:\n",
    "                datum = create_datum(im,0)\n",
    "            else:\n",
    "                datum = create_datum(im,0)\n",
    "            db_txn.put(im_name, datum.SerializeToString())\n",
    "    va_db.close()"
   ]
  },
  {
   "cell_type": "code",
   "execution_count": 33,
   "metadata": {},
   "outputs": [
    {
     "name": "stderr",
     "output_type": "stream",
     "text": [
      "100% (10708 of 10708) |###################| Elapsed Time: 0:01:30 Time: 0:01:30\n",
      "100% (1189 of 1189) |#####################| Elapsed Time: 0:00:10 Time: 0:00:10\n"
     ]
    }
   ],
   "source": [
    "create_lmdb()"
   ]
  },
  {
   "cell_type": "code",
   "execution_count": null,
   "metadata": {
    "collapsed": true
   },
   "outputs": [],
   "source": []
  }
 ],
 "metadata": {
  "kernelspec": {
   "display_name": "Python 2",
   "language": "python",
   "name": "python2"
  },
  "language_info": {
   "codemirror_mode": {
    "name": "ipython",
    "version": 2
   },
   "file_extension": ".py",
   "mimetype": "text/x-python",
   "name": "python",
   "nbconvert_exporter": "python",
   "pygments_lexer": "ipython2",
   "version": "2.7.13"
  }
 },
 "nbformat": 4,
 "nbformat_minor": 1
}
